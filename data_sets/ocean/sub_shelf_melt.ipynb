{
 "cells": [
  {
   "cell_type": "code",
   "execution_count": 1,
   "metadata": {},
   "outputs": [],
   "source": [
    "import PISM\n",
    "import os\n",
    "import numpy as np\n",
    "from PISM.testing import *\n",
    "\n",
    "import numpy as np\n",
    "import pylab as plt\n",
    "\n",
    "config = PISM.Context().config\n",
    "\n",
    "# reduce the grid size to speed this up\n",
    "config.set_number(\"grid.Mx\", 3)\n",
    "config.set_number(\"grid.My\", 5)\n",
    "config.set_number(\"grid.Mz\", 5)\n",
    "\n",
    "seconds_per_year = 365 * 86400\n",
    "# ensure that this is the correct year length\n",
    "config.set_string(\"time.calendar\", \"365_day\")\n",
    "config.set_flag(\"ocean.three_equation_model_clip_salinity\", False)\n",
    "\n",
    "# silence models' initialization messages\n",
    "PISM.Context().log.set_threshold(1)\n",
    "\n",
    "ice_density = config.get_number(\"constants.ice.density\")\n",
    "sea_water_density = config.get_number(\"constants.sea_water.density\")"
   ]
  },
  {
   "cell_type": "code",
   "execution_count": 2,
   "metadata": {},
   "outputs": [],
   "source": [
    "def melting_point_temperature(ice_thickness, salinity):\n",
    "        a = [-0.0575, 0.0901, -7.61e-4]\n",
    "        return a[0] * salinity + a[1] + a[2] * ice_thickness"
   ]
  },
  {
   "cell_type": "code",
   "execution_count": 3,
   "metadata": {},
   "outputs": [
    {
     "name": "stdout",
     "output_type": "stream",
     "text": [
      "H=800 m, TH=6.53 C, S=35.0 g/kg, m=139.43 m/yr\n",
      "H=800 m, TH=7.53 C, S=35.0 g/kg, m=139.43 m/yr\n",
      "H=900 m, TH=6.61 C, S=35.0 g/kg, m=139.43 m/yr\n",
      "H=900 m, TH=7.61 C, S=35.0 g/kg, m=139.43 m/yr\n"
     ]
    }
   ],
   "source": [
    "h = np.arange(800, 1000, 100)\n",
    "t = np.arange(4, 6, 1)\n",
    "H, T = np.meshgrid(h, t)\n",
    "nx, ny = T.shape\n",
    "\n",
    "M = np.zeros_like(H)\n",
    "\n",
    "gamma_T = 1.00e-4\n",
    "gamma_S = 5.05e-7\n",
    "\n",
    "\n",
    "for ice_thickness in h:\n",
    "    for temperature in t:\n",
    "        depth = ice_density / sea_water_density * ice_thickness\n",
    "        salinity = 35.0\n",
    "        melange_back_pressure = 0.0\n",
    "        potential_temperature = temperature - melting_point_temperature(ice_thickness, salinity) + 273.13\n",
    "\n",
    "        grid = shallow_grid()\n",
    "        geometry = PISM.Geometry(grid)\n",
    "\n",
    "        geometry.ice_thickness.set(depth)\n",
    "\n",
    "        filename = \"ocean_given_th_input.nc\"\n",
    "\n",
    "        PISM.util.prepare_output(filename)\n",
    "\n",
    "        Th = PISM.IceModelVec2S(grid, \"theta_ocean\", PISM.WITHOUT_GHOSTS)\n",
    "        Th.set_attrs(\"climate\", \"potential temperature\", \"Kelvin\", \"Kelvin\", \"\", 0)\n",
    "        Th.set(potential_temperature)\n",
    "        Th.write(filename)\n",
    "\n",
    "        S = PISM.IceModelVec2S(grid, \"salinity_ocean\", PISM.WITHOUT_GHOSTS)\n",
    "        S.set_attrs(\"climate\", \"ocean salinity\", \"g/kg\", \"g/kg\", \"\", 0)\n",
    "        S.set(salinity)\n",
    "        S.write(filename)\n",
    "\n",
    "        config.set_string(\"ocean.th.file\", filename)\n",
    "        config.set_number(\"ocean.th.gamma_T\", gamma_T)\n",
    "        config.set_number(\"ocean.th.gamma_S\", gamma_S)\n",
    "\n",
    "        model = PISM.OceanGivenTH(grid)\n",
    "        model.init(geometry)\n",
    "        model.update(geometry, 0, 1)\n",
    "        m = model.shelf_base_mass_flux().numpy()[0, 0]\n",
    "        m = m * seconds_per_year / ice_density\n",
    "        print(f\"H={ice_thickness} m, TH={potential_temperature-273.13:.2f} C, S={salinity} g/kg, m={m:.2f} m/yr\")\n"
   ]
  },
  {
   "cell_type": "code",
   "execution_count": 4,
   "metadata": {},
   "outputs": [
    {
     "name": "stdout",
     "output_type": "stream",
     "text": [
      "H=200 m, TH=5.02 C, S=34.0 g/kg, m=134.93 m/yr\n"
     ]
    }
   ],
   "source": [
    "        gamma_T = 1.00e-4\n",
    "        gamma_S = 5.05e-7\n",
    "\n",
    "        ice_thickness = 200\n",
    "        depth = ice_density / sea_water_density * ice_thickness\n",
    "        salinity = 34.0\n",
    "        melange_back_pressure = 0.0\n",
    "        potential_temperature = 6.5 + 273.13\n",
    "        temperature = 3\n",
    "        potential_temperature = temperature - melting_point_temperature(ice_thickness, salinity) + 273.13\n",
    "\n",
    "        grid = shallow_grid()\n",
    "        geometry = PISM.Geometry(grid)\n",
    "\n",
    "        geometry.ice_thickness.set(depth)\n",
    "\n",
    "        filename = \"ocean_given_th_input.nc\"\n",
    "\n",
    "        PISM.util.prepare_output(filename)\n",
    "\n",
    "        Th = PISM.IceModelVec2S(grid, \"theta_ocean\", PISM.WITHOUT_GHOSTS)\n",
    "        Th.set_attrs(\"climate\", \"potential temperature\", \"Kelvin\", \"Kelvin\", \"\", 0)\n",
    "        Th.set(potential_temperature)\n",
    "        Th.write(filename)\n",
    "\n",
    "        S = PISM.IceModelVec2S(grid, \"salinity_ocean\", PISM.WITHOUT_GHOSTS)\n",
    "        S.set_attrs(\"climate\", \"ocean salinity\", \"g/kg\", \"g/kg\", \"\", 0)\n",
    "        S.set(salinity)\n",
    "        S.write(filename)\n",
    "\n",
    "        config.set_string(\"ocean.th.file\", filename)\n",
    "        config.set_number(\"ocean.th.gamma_T\", gamma_T)\n",
    "        config.set_number(\"ocean.th.gamma_S\", gamma_S)\n",
    "\n",
    "\n",
    "        model = PISM.OceanGivenTH(grid)\n",
    "        model.init(geometry)\n",
    "        model.update(geometry, 0, 1)\n",
    "        m = model.shelf_base_mass_flux().numpy()[0, 0]\n",
    "        m = m * seconds_per_year / ice_density\n",
    "        print(f\"H={ice_thickness} m, TH={potential_temperature-273.13:.2f} C, S={salinity} g/kg, m={m:.2f} m/yr\")\n",
    "\n"
   ]
  },
  {
   "cell_type": "code",
   "execution_count": 5,
   "metadata": {},
   "outputs": [
    {
     "data": {
      "text/plain": [
       "99.03448275862068"
      ]
     },
     "execution_count": 5,
     "metadata": {},
     "output_type": "execute_result"
    }
   ],
   "source": [
    "35900 / 362.5"
   ]
  },
  {
   "cell_type": "code",
   "execution_count": null,
   "metadata": {},
   "outputs": [],
   "source": []
  }
 ],
 "metadata": {
  "kernelspec": {
   "display_name": "Python 3",
   "language": "python",
   "name": "python3"
  },
  "language_info": {
   "codemirror_mode": {
    "name": "ipython",
    "version": 3
   },
   "file_extension": ".py",
   "mimetype": "text/x-python",
   "name": "python",
   "nbconvert_exporter": "python",
   "pygments_lexer": "ipython3",
   "version": "3.8.5"
  }
 },
 "nbformat": 4,
 "nbformat_minor": 4
}
